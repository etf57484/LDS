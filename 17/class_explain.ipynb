{
 "cells": [
  {
   "cell_type": "code",
   "execution_count": 17,
   "metadata": {},
   "outputs": [],
   "source": [
    "'''\n",
    "オブジェクト指向プログラミング（クラスなど）\n",
    "\n",
    "レジ店員プログラム\n",
    "'''\n",
    "\n",
    "# ダミー動作に利用するモジュールをインポート\n",
    "import time\n",
    "\n",
    "# 全ての商品リスト（辞書）\n",
    "all_items = {\n",
    "    'orange':100,\n",
    "    'apple':200,\n",
    "    'cake':4000\n",
    "}\n",
    "\n",
    "# クラスNewPurchase\n",
    "# イメージは注文票のテンプレート台紙\n",
    "class NewPurchase:\n",
    "    # コンストラクタ\n",
    "    # このクラスを作成する際に最初に必要になる情報（＝変数）を初期化する\n",
    "    # 注文票の例えでは、”決済方法”、”会員ID”、”購入商品”が最初に必要なので、まずそれを注文票に記載する。これを初期化という\n",
    "    def __init__(self, payment_method, member_id, items): # コンストラクタはこのように\"__init__\"を用いて書く\n",
    "        # \"self\"とは、クラスから生成されるインスタンス自身を示す\n",
    "        # インスタンスについては後述する\n",
    "        self.payment_method = payment_method # 生成されたインスタンスにおける\"payment_method\"に、インスタンス引数における\"payment_method\"を代入する\n",
    "        self.member_id = member_id\n",
    "        self.items = items\n",
    "        self.total_amount = 0\n",
    "        self.total_points = 0\n",
    "        # この\"Welcome!\"はいつ表示される？\n",
    "        print('Welcome!')\n",
    "    \n",
    "    # クラスの中で定義する関数のことをメソッドという\n",
    "    # 合計金額を表示するメソッド\n",
    "    # メソッドの第一引数は必ず\"self\"にする決まり\n",
    "    def get_total_amount(self):\n",
    "        for item in self.items:\n",
    "            #コンストラクタで初期化した（＝0と定義した）\"total_amount\"に\"item\"の値段を代入する\n",
    "            self.total_amount += all_items[item]\n",
    "        print(f'Total amount:{str(self.total_amount)} yen')\n",
    "\n",
    "    # ポイントを表示するメソッド\n",
    "    def get_total_points(self):\n",
    "        # 購入金額(=\"total_amount\")100円ごとに1ポイント付与する\n",
    "        # 算出したトータルポイントは\"self.total_point\"にいれておく\n",
    "        self.total_points = int(self.total_amount / 100)\n",
    "        print(f'Total points:{self.total_points} point(s)')\n",
    "        print(f'{self.total_points} point(s) added to member-id {self.member_id}')\n",
    "          \n",
    "    # 支払いメソッド\n",
    "    def pay(self):\n",
    "        if self.payment_method == \"Cash\":\n",
    "            inserted_cash = input(\"Insert cash (yen): \")\n",
    "            change = int(inserted_cash) - self.total_amount\n",
    "            print(f\"Change: {str(change)} yen\")\n",
    "        if self.payment_method == \"Credit Card\":\n",
    "            inserted_cash = input(\"Your card number? (Visa, Master, AMEX, JCB): \")\n",
    "            print(\"Now processing...\")\n",
    "            # ダミー動作のため、3秒間処理をしているようなエフェクトを出しているだけ\n",
    "            time.sleep(3)\n",
    "            print(\"OK\")\n",
    "            \n",
    "        print(\"Thank you for shopping!\")\n",
    "\n"
   ]
  },
  {
   "cell_type": "code",
   "execution_count": 3,
   "metadata": {},
   "outputs": [
    {
     "name": "stdout",
     "output_type": "stream",
     "text": [
      "Welcome!\n",
      "Welcome!\n"
     ]
    }
   ],
   "source": [
    "# 太郎の購入した商品\n",
    "taro_items = ['apple','orange']\n",
    "# インスタンスの生成\n",
    "# 注文票の例えでいえば、白紙の注文票に決済方法と会員IDと購入商品を記入して台紙から一枚剥がすようなイメージ\n",
    "# 新しい注文票（＝インスタンス）には太郎の決済方法と会員IDと購入商品が記入された\n",
    "taro_order = NewPurchase('Cash','001',taro_items)\n",
    "\n",
    "# 次郎も同様に\n",
    "# 同じクラスから違う情報をもたせたインスタンスを生成することができる\n",
    "jiro_items = ['apple','orange','orange']\n",
    "jiro_order = NewPurchase('Credit Card','002',jiro_items)"
   ]
  },
  {
   "cell_type": "code",
   "execution_count": 4,
   "metadata": {},
   "outputs": [
    {
     "name": "stdout",
     "output_type": "stream",
     "text": [
      "Total amount:300 yen\n",
      "Total points:3\n",
      "3 points added to member-id 001\n",
      "Change: 99700 yen\n",
      "Thank you for shopping!\n"
     ]
    }
   ],
   "source": [
    "# メソッド（＝クラスの中で定義した関数）を実行するには、\"インスタンス名.メソッド名(引数：任意)\"とする\n",
    "taro_order.get_total_amount()\n",
    "taro_order.get_total_points()\n",
    "taro_order.pay()"
   ]
  },
  {
   "cell_type": "code",
   "execution_count": 5,
   "metadata": {},
   "outputs": [
    {
     "name": "stdout",
     "output_type": "stream",
     "text": [
      "Total amount:400 yen\n",
      "Total points:4\n",
      "4 points added to member-id 002\n",
      "Now processing...\n",
      "OK\n",
      "Thank you for shopping!\n"
     ]
    }
   ],
   "source": [
    "# \"toro_order\"と\"jiro_order\"には各々の情報が格納されている\n",
    "# => 各々のインスタンスのselfは異なる内容\n",
    "jiro_order.get_total_amount()\n",
    "jiro_order.get_total_points()\n",
    "jiro_order.pay()"
   ]
  },
  {
   "cell_type": "code",
   "execution_count": 12,
   "metadata": {},
   "outputs": [],
   "source": [
    "'''\n",
    "継承\n",
    "'''\n",
    "\n",
    "import random\n",
    "\n",
    "# 継承を行うには\"クラス名（継承するクラス名）\"とする\n",
    "# \"NewPurchase\"にくじ引き機能を追加する\n",
    "class Lottery(NewPurchase):\n",
    "    # 継承するクラスで設定した内容にプラスして以下の内容が付け足される\n",
    "    def draw_lottery(self):\n",
    "        # 1000円で1回くじを引けるようにしたい\n",
    "        draw_times = int(self.total_amount / 1000) # くじを引くことができる回数\n",
    "        if draw_times > 0:\n",
    "            print(\"Let's draw lotteries!\")\n",
    "            for i in range(draw_times):\n",
    "                result =  random.randint(0,1) # 0か1をランダムに生成\n",
    "                hit_times = 0 # HITの回数を数える変数を初期化\n",
    "                if result == 1: # 1なら当たり\n",
    "                    print(f\"{i+1}.HIT!\")\n",
    "                    hit_times += 1\n",
    "                else: # それ以外ははずれ\n",
    "                    print(f\"{i+1}.MISS!\")\n",
    "            print(f\"HIT times:{hit_times}\")\n",
    "            if hit_times > 0:\n",
    "                print(f\"You can use a coupon to discount {hit_times}00 yen for your purchases in the next time!\")\n",
    "                print(\"Here you are.\")\n",
    "        else:\n",
    "            print(\"You have no chance to draw lotteries.\")"
   ]
  },
  {
   "cell_type": "code",
   "execution_count": 13,
   "metadata": {},
   "outputs": [
    {
     "name": "stdout",
     "output_type": "stream",
     "text": [
      "Welcome!\n",
      "Total amount:4400 yen\n",
      "Total points:44\n",
      "44 points added to member-id 003\n",
      "Now processing...\n",
      "OK\n",
      "Thank you for shopping!\n",
      "Let's draw lotteries!\n",
      "1.HIT!\n",
      "2.HIT!\n",
      "3.HIT!\n",
      "4.HIT!\n",
      "HIT times:1\n",
      "You can use a coupon to discount 100 yen for your purchases in the next time!\n",
      "Here you are.\n"
     ]
    }
   ],
   "source": [
    "saburo_items = ['apple','orange','orange','cake']\n",
    "saburo_order = Lottery('Credit Card','003',saburo_items)\n",
    "\n",
    "saburo_order.get_total_amount()\n",
    "saburo_order.get_total_points()\n",
    "saburo_order.pay()\n",
    "\n",
    "saburo_order.draw_lottery()"
   ]
  },
  {
   "cell_type": "code",
   "execution_count": 27,
   "metadata": {},
   "outputs": [],
   "source": [
    "'''\n",
    "継承Ⅱ\n",
    "'''\n",
    "# クーポンリスト\n",
    "coupons = {\n",
    "    'AA01':100,\n",
    "    'BB02':350\n",
    "}\n",
    "\n",
    "# 継承して、メソッドに引数を追加する\n",
    "class UseCoupon(NewPurchase):\n",
    "    def coupon_discount(self, coupon_code):\n",
    "        if coupon_code in coupons:\n",
    "            self.total_amount -= coupons[coupon_code]\n",
    "            print(f'Discounted total amount:{self.total_amount} yen')"
   ]
  },
  {
   "cell_type": "code",
   "execution_count": 29,
   "metadata": {},
   "outputs": [
    {
     "name": "stdout",
     "output_type": "stream",
     "text": [
      "Welcome!\n",
      "Total amount:4200 yen\n",
      "Total points:42 point(s)\n",
      "42 point(s) added to member-id 003\n",
      "Discounted total amount:4100 yen\n",
      "Change: 5900 yen\n",
      "Thank you for shopping!\n"
     ]
    }
   ],
   "source": [
    "shiro_items = ['apple','cake']\n",
    "shiro_order = UseCoupon('Cash','003',shiro_items)\n",
    "\n",
    "shiro_order.get_total_amount()\n",
    "shiro_order.get_total_points()\n",
    "# メソッドの引数を指定する\n",
    "shiro_order.coupon_discount('AA01')\n",
    "shiro_order.pay()"
   ]
  },
  {
   "cell_type": "code",
   "execution_count": 34,
   "metadata": {},
   "outputs": [],
   "source": [
    "# coupons = {\n",
    "#     'AA01':100,\n",
    "#     'BB02':350\n",
    "# }\n",
    "\n",
    "class UseCoupon2(NewPurchase):\n",
    "    def __init__(self, payment_method, member_id, items, coupon_code):\n",
    "        super().__init__(payment_method, member_id, items)\n",
    "        self.coupon_code = coupon_code\n",
    "\n",
    "    def coupon_discount(self):\n",
    "        if self.coupon_code in coupons:\n",
    "            self.total_amount -= coupons[self.coupon_code]\n",
    "            print(f'Discounted total amount:{self.total_amount} yen')"
   ]
  },
  {
   "cell_type": "code",
   "execution_count": 35,
   "metadata": {},
   "outputs": [
    {
     "name": "stdout",
     "output_type": "stream",
     "text": [
      "Welcome!\n",
      "Total amount:4100 yen\n",
      "Total points:41 point(s)\n",
      "41 point(s) added to member-id 003\n",
      "Discounted total amount:4000 yen\n",
      "Change: 6000 yen\n",
      "Thank you for shopping!\n"
     ]
    }
   ],
   "source": [
    "goro_items = ['orange','cake']\n",
    "goro_order = UseCoupon2('Cash','003',goro_items,'AA01')\n",
    "goro_order.get_total_amount()\n",
    "goro_order.get_total_points()\n",
    "goro_order.coupon_discount()\n",
    "goro_order.pay()"
   ]
  },
  {
   "cell_type": "code",
   "execution_count": 14,
   "metadata": {},
   "outputs": [],
   "source": [
    "'''\n",
    "オーバーライド\n",
    "'''\n",
    "\n",
    "# 継承したクラスのメソッドの中身を変えることをオーバーライドという\n",
    "class TenTimesPointDay(NewPurchase):\n",
    "    def get_total_points(self): # オーバーライドしたいメソッドと同じメソッド名で再定義する\n",
    "        self.total_points = int(self.total_amount / 10)\n",
    "        print(f'Total points:{self.total_points} point(s)')\n",
    "        print(f'{self.total_points} points added to member-id {self.member_id}')\n",
    "        "
   ]
  },
  {
   "cell_type": "code",
   "execution_count": 15,
   "metadata": {},
   "outputs": [
    {
     "name": "stdout",
     "output_type": "stream",
     "text": [
      "Welcome!\n",
      "Total amount:300 yen\n",
      "Total points:30 point(s)\n",
      "30 points added to member-id 001\n",
      "Change: 99999999999999999999999999999700 yen\n",
      "Thank you for shopping!\n"
     ]
    }
   ],
   "source": [
    "taro_items = ['apple','orange']\n",
    "taro_order = TenTimesPointDay('Cash','001',taro_items)\n",
    "\n",
    "taro_order.get_total_amount()\n",
    "taro_order.get_total_points()\n",
    "taro_order.pay()"
   ]
  }
 ],
 "metadata": {
  "kernelspec": {
   "display_name": "Python 3.10.8 64-bit (microsoft store)",
   "language": "python",
   "name": "python3"
  },
  "language_info": {
   "codemirror_mode": {
    "name": "ipython",
    "version": 3
   },
   "file_extension": ".py",
   "mimetype": "text/x-python",
   "name": "python",
   "nbconvert_exporter": "python",
   "pygments_lexer": "ipython3",
   "version": "3.10.8"
  },
  "orig_nbformat": 4,
  "vscode": {
   "interpreter": {
    "hash": "caba608a9764129e292dc8bf90b39afb76edb399ecec5be5a9f74d2047acb2a3"
   }
  }
 },
 "nbformat": 4,
 "nbformat_minor": 2
}
