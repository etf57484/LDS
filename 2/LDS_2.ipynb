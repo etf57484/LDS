{
  "nbformat": 4,
  "nbformat_minor": 0,
  "metadata": {
    "colab": {
      "name": "LDS_2.ipynb",
      "provenance": [],
      "collapsed_sections": []
    },
    "kernelspec": {
      "name": "python3",
      "display_name": "Python 3"
    },
    "language_info": {
      "name": "python"
    }
  },
  "cells": [
    {
      "cell_type": "code",
      "source": [
        "#復習\n",
        "\n",
        "# メッセージ「科目得点を教えてください>」とともに科目得点を人間に入力させ、受け取った値を変数scoreに代入してください。\n",
        "score = (                          )\n",
        "# 1回無視してください\n",
        "score = int(score)\n",
        "\n",
        "# 成績評価を、S(90点以上)・A＋(85点以上)・A(80点以上）・B＋(75点以上)・B(70点以上)・C＋(65点以上)・C(60点以上)・F(60点未満)として行ってください。\n",
        "# 成績は変数gradeに代入してください。\n",
        "(\n",
        "\n",
        "\n",
        "\n",
        "\n",
        "\n",
        "\n",
        "\n",
        "\n",
        "\n",
        "\n",
        "\n",
        "\n",
        "\n",
        "\t\t\t\t\t\t)\n",
        "\n",
        "# 最後に成績を出力します。\n",
        "print(\"あなたの成績：\")\n",
        "print(grade)"
      ],
      "metadata": {
        "id": "kIpmbAOuCdin"
      },
      "execution_count": null,
      "outputs": []
    }
  ]
}