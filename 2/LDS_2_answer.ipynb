{
  "nbformat": 4,
  "nbformat_minor": 0,
  "metadata": {
    "colab": {
      "name": "LDS_2_answer",
      "provenance": []
    },
    "kernelspec": {
      "name": "python3",
      "display_name": "Python 3"
    },
    "language_info": {
      "name": "python"
    }
  },
  "cells": [
    {
      "cell_type": "code",
      "execution_count": null,
      "metadata": {
        "id": "leegXpFfGS7c"
      },
      "outputs": [],
      "source": [
        "# メッセージ「科目得点を教えてください>」とともに科目得点を人間に入力させ、受け取った値を変数scoreに代入してください。\n",
        "score = input(\"科目得点を教えてください>\")\n",
        "score = int(score)\n",
        "\n",
        "# 成績評価を、S(90点以上)・A＋(85点以上)・A(80点以上）・B＋(75点以上)・B(70点以上)・C＋(65点以上)・C(60点以上)・F(60点未満)として行ってください。\n",
        "# 成績は変数gradeに代入してください。\n",
        "if score >= 90:\n",
        "\tgrade = \"S\"\n",
        "elif score >= 85:\n",
        "\tgrade = \"A+\"\n",
        "elif score >= 80:\n",
        "\tgrade = \"A\"\n",
        "elif score >= 75:\n",
        "\tgrade = \"B+\"\n",
        "elif score >= 70:\n",
        "\tgrade = \"B\"\n",
        "elif score >= 65:\n",
        "\tgrade = \"C+\"\n",
        "elif score >= 60:\n",
        "\tgrade = \"C\"\n",
        "else:\n",
        "\tgrade = \"F\"\n",
        "\n",
        "# 最後に成績を出力します。\n",
        "print(\"あなたの成績：\")\n",
        "print(grade)"
      ]
    },
    {
      "cell_type": "code",
      "source": [
        "my_point = 1000\n",
        "your_point = 2000\n",
        "\n",
        "total_point = my_point + your_point\n",
        "print(total_point)"
      ],
      "metadata": {
        "id": "EfR21zJXGYZy"
      },
      "execution_count": null,
      "outputs": []
    },
    {
      "cell_type": "code",
      "source": [
        "my_point = \"1000\"\n",
        "your_point = \"2000\"\n",
        "\n",
        "total_point = my_point + your_point\n",
        "print(total_point)"
      ],
      "metadata": {
        "id": "1mP3OdKyGaI1"
      },
      "execution_count": null,
      "outputs": []
    },
    {
      "cell_type": "code",
      "source": [
        "my_point = \"1000\"\n",
        "your_point = 2000\n",
        "\n",
        "total_point = my_point + your_point\n",
        "print(total_point)"
      ],
      "metadata": {
        "id": "eDdslGFAGbTF"
      },
      "execution_count": null,
      "outputs": []
    },
    {
      "cell_type": "code",
      "source": [
        "my_point = \"1000\"\n",
        "your_point = 2000\n",
        "\n",
        "total_point = int(my_point) + your_point\n",
        "print(total_point)"
      ],
      "metadata": {
        "id": "Uq8bLBQLGdbI"
      },
      "execution_count": null,
      "outputs": []
    },
    {
      "cell_type": "code",
      "source": [
        "my_point = \"1000\"\n",
        "your_point = 2000\n",
        "\n",
        "total_point = my_point + str(your_point)\n",
        "print(total_point)"
      ],
      "metadata": {
        "id": "mdnwU9GxGeAA"
      },
      "execution_count": null,
      "outputs": []
    },
    {
      "cell_type": "code",
      "source": [
        "greeting = \"こんにちは\"\n",
        "print(greeting)"
      ],
      "metadata": {
        "id": "ZmRAWtbbGiRX"
      },
      "execution_count": null,
      "outputs": []
    },
    {
      "cell_type": "code",
      "source": [
        "print(city)\n",
        "city = \"Sanda\""
      ],
      "metadata": {
        "id": "RRORZg0vGj21"
      },
      "execution_count": null,
      "outputs": []
    },
    {
      "cell_type": "code",
      "source": [
        "contry = Japan\n",
        "print(contry)\n",
        "# できる？"
      ],
      "metadata": {
        "id": "lpr_k5qgGoUL"
      },
      "execution_count": null,
      "outputs": []
    },
    {
      "cell_type": "code",
      "source": [
        "student_id_number = 29020123\n",
        "print(student_id_number)"
      ],
      "metadata": {
        "id": "Y-13ZsO9Gpjs"
      },
      "execution_count": null,
      "outputs": []
    },
    {
      "cell_type": "code",
      "source": [
        "birth_year = \"2000\"\n",
        "print(student_id_num)"
      ],
      "metadata": {
        "id": "Rwom44voGrK7"
      },
      "execution_count": null,
      "outputs": []
    },
    {
      "cell_type": "code",
      "source": [
        "enter_year = 2019\n",
        "this_yaer = 2022\n",
        "grade = this_year - enter_year + 1\n",
        "print(grade)"
      ],
      "metadata": {
        "id": "Et4v5dgSGtDq"
      },
      "execution_count": null,
      "outputs": []
    },
    {
      "cell_type": "code",
      "source": [
        "today_date = \"26\"\n",
        "ten_days_ago = today_date - 10\n",
        "print(ten_days_ago)\n",
        "# できる？"
      ],
      "metadata": {
        "id": "-QuHfnRoGufG"
      },
      "execution_count": null,
      "outputs": []
    },
    {
      "cell_type": "code",
      "source": [
        "# 「今日の日付：2022/04/26」と表示したい\n",
        "message = \"今日の日付：\"\n",
        "date = \"2022/04/26\"\n",
        "print(message + date)"
      ],
      "metadata": {
        "id": "2QqbY_3AGwJr"
      },
      "execution_count": null,
      "outputs": []
    },
    {
      "cell_type": "code",
      "source": [
        "# 「私のGPA:1」と表示したい\n",
        "message = \"私のGPA:\"\n",
        "GPA = 1\n",
        "print(message+GPA)\n",
        "# できる？"
      ],
      "metadata": {
        "id": "1KIVJqZ4GxsO"
      },
      "execution_count": null,
      "outputs": []
    },
    {
      "cell_type": "code",
      "source": [
        "# Retry\n",
        "message = \"私のGPA:\"\n",
        "GPA = \"1\"\n",
        "print(message+GPA)"
      ],
      "metadata": {
        "id": "ue-0LcsDGzDB"
      },
      "execution_count": null,
      "outputs": []
    },
    {
      "cell_type": "code",
      "source": [
        "# Retry\n",
        "message = \"私のGPA:\"\n",
        "GPA = 1\n",
        "print(message+str(GPA))"
      ],
      "metadata": {
        "id": "CXFkAx3WG0SN"
      },
      "execution_count": null,
      "outputs": []
    },
    {
      "cell_type": "code",
      "source": [
        "foodstuff_1 = \"人参\"\n",
        "foodstuff_2 = \"じゃがいも\"\n",
        "foodstuff_3 = \"玉ねぎ\"\n",
        "foodstuff_4 = \"ナス\"\n",
        "foodstuff_5 = \"豚肉\"\n",
        "foodstuff_6 = \"マッシュルーム\"\n",
        "foodstuff_7 = \"カレールー\"\n",
        "\n",
        "# 「カレーの具材は人参、じゃがいも、……カレールーです」と言わせたい\n",
        "print(\"カレーの具材は\" + foodstaff_1 + \",\" + foodstaff_2 + \",\" + foodstaff_3 + \",\" + foodstaff_4 + \",\" + foodstaff_5 + \",\" + foodstaff_6 + \",\" + foodstaff_7 + \"です\")"
      ],
      "metadata": {
        "id": "RvpzxrIpG2l6"
      },
      "execution_count": null,
      "outputs": []
    },
    {
      "cell_type": "code",
      "source": [
        "foodstuffs = [\"人参\", \"じゃがいも\", \"玉ねぎ\", \"ナス\", \"豚肉\", \"マッシュルーム\", \"カレールー\"]\n",
        "# リスト全体を出力する\n",
        "print(foodstuffs)\n",
        "# 一品目を表示する\n",
        "print(foodstuffs[0])\n",
        "# カツを追加しよう\n",
        "foofstuffs.append(\"カツ\")\n",
        "print(foodstuffs)\n",
        "# [\"人参\", \"じゃがいも\", \"玉ねぎ\", \"ナス\", \"豚肉\", \"マッシュルーム\", \"カレールー\", \"カツ\"]"
      ],
      "metadata": {
        "id": "mAunbSklG4kR"
      },
      "execution_count": null,
      "outputs": []
    },
    {
      "cell_type": "code",
      "source": [
        "weekly_body_temperature = [36.5, 35.9, 36.3, 35.9, 37.9, 39.6, 38.5]\n",
        "\n",
        "first_day = weekly_body_temperature[0]\n",
        "last_day = weekly_body_temperature[6]"
      ],
      "metadata": {
        "id": "grGkW7jCG52d"
      },
      "execution_count": null,
      "outputs": []
    },
    {
      "cell_type": "code",
      "source": [
        "foodstuffs = [\"人参\", \"じゃがいも\", \"玉ねぎ\", \"ナス\", \"豚肉\", \"マッシュルーム\", \"カレールー\"]\n",
        "\n",
        "print(\"カレーの具材は\")\n",
        "for stuff in foodstuffs:\n",
        "\tprint(stuff)\n",
        "print(\"です。\")"
      ],
      "metadata": {
        "id": "q5h1adSAG9gl"
      },
      "execution_count": null,
      "outputs": []
    },
    {
      "cell_type": "code",
      "source": [
        "foodstuffs = [\"人参\", \"じゃがいも\", \"玉ねぎ\", \"ナス\", \"豚肉\", \"マッシュルーム\", \"カレールー\"]\n",
        "# リストfoodstuffsの要素を一つずつstuffに代入するfor文\n",
        "for stuff in foodstuffs:\n",
        "\tprint(stuff)"
      ],
      "metadata": {
        "id": "-gTe5QjvG-0E"
      },
      "execution_count": null,
      "outputs": []
    },
    {
      "cell_type": "code",
      "source": [
        "foodstuffs = [\"人参\", \"じゃがいも\", \"玉ねぎ\", \"カレールー\"] # 初期具材\n",
        "max_count = 5 # 追加できる具材の最大数\n",
        "\n",
        "# range関数で0,1,2,3…max_count-1 を要素に持つオブジェクトを生成し、変数iに0,1,2,3…max_count-1 の順に代入する\n",
        "for i in range(max_count):\n",
        "\tnew_stuff = input(f\"カレーに何を追加しますか？（後{max_count - i}個まで)>\")\n",
        "\t# もしnew_staffがENDならforを抜ける\n",
        "\tif new_stuff == \"END\":\n",
        "\t\tbreak\n",
        "\t# リストfoodstuffsの最後にnew_stuffを追加する\n",
        "\tfoodstuffs.append(new_stuff)\n",
        "\n",
        "print(\"あなたのカレーの具材は\")\n",
        "for stuff in foodstuffs:\n",
        "\tprint(stuff)\n",
        "print(\"です。\")"
      ],
      "metadata": {
        "id": "6iEkbGp4HAYq"
      },
      "execution_count": null,
      "outputs": []
    },
    {
      "cell_type": "code",
      "source": [
        "last_name = \"Nishinomiya\"\n",
        "first_name = \"Seiko\"\n",
        "\n",
        "self_introduction = \"私の名前は\" + last_name + first_name + \"です。\""
      ],
      "metadata": {
        "id": "debgJGvCHC4q"
      },
      "execution_count": null,
      "outputs": []
    },
    {
      "cell_type": "code",
      "source": [
        "last_name = \"Nishinomiya\"\n",
        "first_name = \"Seiko\"\n",
        "\n",
        "self_introduction = f'私の名前は{last_name}{first_name}です'"
      ],
      "metadata": {
        "id": "Bd3dwlmZHD4d"
      },
      "execution_count": null,
      "outputs": []
    },
    {
      "cell_type": "code",
      "source": [
        "grade_criterion = [\"F\",\"F\",\"F\",\"F\",\"F\",\"F\",\"F\",\"F\",\"F\",\"F\",\"F\",\"F\",\"C\",\"C+\",\"B\",\"B+\",\"A\",\"A+\",\"S\",\"S\"]\n",
        "\n",
        "score = int(input(\"科目得点を教えてください>\"))\n",
        "score_level = int(score/5)\n",
        "grade = grade_criterion[score_level]\n",
        "\n",
        "# 最後に成績を出力します。\n",
        "print(\"あなたの成績：\")\n",
        "print(grade)"
      ],
      "metadata": {
        "id": "GmdeMFHLHF0p"
      },
      "execution_count": null,
      "outputs": []
    }
  ]
}